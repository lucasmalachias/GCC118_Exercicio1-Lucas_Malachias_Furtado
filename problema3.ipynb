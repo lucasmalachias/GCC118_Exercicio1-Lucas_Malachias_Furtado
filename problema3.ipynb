{
  "nbformat": 4,
  "nbformat_minor": 0,
  "metadata": {
    "colab": {
      "provenance": []
    },
    "kernelspec": {
      "name": "python3",
      "display_name": "Python 3"
    },
    "language_info": {
      "name": "python"
    }
  },
  "cells": [
    {
      "cell_type": "markdown",
      "source": [
        "# GCC118 - Programação Matemática - Problema 3\n",
        "## Universidade Federal de Lavras\n",
        "### Instituto de Ciências Exatas e Tecnológicas\n",
        "#### Profa. Andreza C. Beezão Moreira (DMM/UFLA)\n",
        "#### Prof. Mayron César O. Moreira (DCC/UFLA)\n",
        "#### Aluno: Lucas Malachias Furtado - 202110665"
      ],
      "metadata": {
        "id": "7YcVBRS7bEzs"
      }
    },
    {
      "cell_type": "markdown",
      "metadata": {
        "id": "m61Hr7kqErVS"
      },
      "source": [
        "## Modelagem matemática\n",
        "\n",
        "A seguir, apresentaremos a modelagem matemática deste problema, especificando os principais elementos da modelagem de um problema de programação matemática: $(i)$ parâmetros (dados); $(ii)$ variáveis de decisão; $(iii)$ modelagem, composta por uma função objetivo, restrições do problema e restrições de domínio das variáveis de decisão."
      ]
    },
    {
      "cell_type": "markdown",
      "metadata": {
        "id": "GrH57ge0ErVT"
      },
      "source": [
        "## Parâmetros\n",
        "\n",
        "- **Área total**: \\(75\\) acres (300 casas demolidas, cada uma ocupando \\(0,25\\) acres)\n",
        "\n",
        "- **Área útil**: \\(63,75\\) acres (85% da área total, descontando 15% para ruas e espaços públicos)  \n",
        "\n",
        "- **Financiamento máximo**: $15.000.000  \n",
        "\n",
        "- **Custo de demolição por casa**: $2.000  \n",
        "\n",
        "### Tamanhos dos Lotes  \n",
        "- Simples: \\(0,18\\) acres  \n",
        "- Duplo: \\(0,28\\) acres  \n",
        "- Triplo: \\(0,4\\) acres  \n",
        "- Quádruplo: \\(0,5\\) acres  \n",
        "\n",
        "### Custos de Construção por Unidade  \n",
        "- Simples: $50.000  \n",
        "\n",
        "- Dupla: $70.000  \n",
        "\n",
        "- Tripla: $130.000  \n",
        "\n",
        "- Quádrupla: $160.000  \n",
        "\n",
        "### Arrecadação por Unidade  \n",
        "- Simples: $1.000  \n",
        "\n",
        "- Dupla: $1.900  \n",
        "\n",
        "- Tripla: $2.700  \n",
        "\n",
        "- Quádrupla: $3.400  \n",
        "\n",
        "### Proporções Mínimas  \n",
        "- **Unidades simples**: no mínimo 20% do total de unidades.  \n",
        "- **Unidades duplas**: no mínimo 10% do total de unidades.  \n",
        "- **Unidades triplas e quádruplas**: juntas, no mínimo 25% do total de unidades.\n"
      ]
    },
    {
      "cell_type": "markdown",
      "metadata": {
        "id": "jiOz0lALErVU"
      },
      "source": [
        "### Variáveis de Decisão\n",
        "\n",
        "## Definição das Variáveis de Decisão\n",
        "\n",
        "- \\(x_1\\): número de unidades simples.  \n",
        "- \\(x_2\\): número de unidades duplas.  \n",
        "- \\(x_3\\): número de unidades triplas.  \n",
        "- \\(x_4\\): número de unidades quádruplas."
      ]
    },
    {
      "cell_type": "markdown",
      "metadata": {
        "id": "ppekz1lwErVV"
      },
      "source": [
        "### Função objetivo\n",
        "\n",
        "Maximizar a arrecadação de impostos:\n",
        "\n",
        "\\\n",
        "\\begin{equation}\n",
        "\\text{Maximizar:} \\quad Z = 1.000 \\cdot x_1 + 1.900 \\cdot x_2 + 2.700 \\cdot x_3 + 3.400 \\cdot x_4\n",
        "\\end{equation}\n"
      ]
    },
    {
      "cell_type": "markdown",
      "metadata": {
        "id": "GV2RQJ5m04lH"
      },
      "source": [
        "### Restrições\n",
        "\n",
        "### Área Máxima Utilizável\n",
        "\n",
        "A soma das áreas ocupadas pelas unidades deve ser menor ou igual à área útil disponível:\n",
        "\n",
        "\\\n",
        "\\begin{equation}\n",
        "0,18 \\cdot x_1 + 0,28 \\cdot x_2 + 0,4 \\cdot x_3 + 0,5 \\cdot x_4 \\leq 63,75\n",
        "\\end{equation}\n",
        "\n",
        "\n",
        "### Custo Máximo de Construção\n",
        "\n",
        "O custo total de construção deve ser menor ou igual ao valor financiado:\n",
        "\n",
        "\\\n",
        "\\begin{equation}\n",
        "50.000 \\cdot x_1 + 70.000 \\cdot x_2 + 130.000 \\cdot x_3 + 160.000 \\cdot x_4 \\leq 15.000.000\n",
        "\\end{equation}\n",
        "\n",
        "\n",
        "### Proporção Mínima de Unidades Simples\n",
        "\n",
        "As unidades simples devem representar pelo menos 20% do total de unidades:\n",
        "\n",
        "\\\n",
        "\\begin{equation}\n",
        "x_1 \\geq 0,2 \\cdot (x_1 + x_2 + x_3 + x_4)\n",
        "\\end{equation}\n",
        "\n",
        "\n",
        "### Proporção Mínima de Unidades Duplas\n",
        "\n",
        "As unidades duplas devem representar pelo menos 10% do total de unidades:\n",
        "\n",
        "\\\n",
        "\\begin{equation}\n",
        "x_2 \\geq 0,1 \\cdot (x_1 + x_2 + x_3 + x_4)\n",
        "\\end{equation}\n",
        "\n",
        "\n",
        "### Proporção Mínima de Unidades Triplas e Quádruplas\n",
        "\n",
        "Unidades triplas e quádruplas, combinadas, devem representar pelo menos 25% do total de unidades:\n",
        "\n",
        "\\\n",
        "\\begin{equation}\n",
        "x_3 + x_4 \\geq 0,25 \\cdot (x_1 + x_2 + x_3 + x_4)\n",
        "\\end{equation}\n",
        "\n"
      ]
    },
    {
      "cell_type": "markdown",
      "metadata": {
        "id": "puBeJTpQ04lo"
      },
      "source": [
        "### Modelo\n",
        "\n",
        "\\begin{equation}\n",
        "\\max Z = 1.000x_1 + 1.900x_2 + 2.700x_3 + 3.400x_4\n",
        "\\end{equation}\n",
        "\n",
        "sujeito a:\n",
        "\n",
        "\\begin{alignat}{2}\n",
        "0,18x_1 + 0,28x_2 + 0,4x_3 + 0,5x_4 &\\le 63,75 && \\qquad \\text{(Área máxima utilizável)} \\\\\n",
        "50.000x_1 + 70.000x_2 + 130.000x_3 + 160.000x_4 &\\le 15.000.000 && \\qquad \\text{(Custo máximo de construção)} \\\\\n",
        "x_1 &\\ge 0,2(x_1 + x_2 + x_3 + x_4) && \\qquad \\text{(Proporção mínima de unidades simples)} \\\\\n",
        "x_2 &\\ge 0,1(x_1 + x_2 + x_3 + x_4) && \\qquad \\text{(Proporção mínima de unidades duplas)} \\\\\n",
        "x_3 + x_4 &\\ge 0,25(x_1 + x_2 + x_3 + x_4) && \\qquad \\text{(Proporção mínima de unidades triplas e quádruplas)} \\\\\n",
        "x_1, x_2, x_3, x_4 &\\ge 0 && \\qquad \\text{(Não negatividade das variáveis)}\n",
        "\\end{alignat}\n"
      ]
    },
    {
      "cell_type": "markdown",
      "source": [
        "## Instalação da biblioteca PuLP\n",
        "\n",
        "Para mais informações, acesse: [PuLP 2.9.0](https://pypi.org/project/PuLP/)."
      ],
      "metadata": {
        "id": "gDSX7cj5bweS"
      }
    },
    {
      "cell_type": "code",
      "execution_count": null,
      "metadata": {
        "id": "4O-RtOj9au6i",
        "colab": {
          "base_uri": "https://localhost:8080/"
        },
        "outputId": "3a07ec8e-5db7-490f-8b24-c2293c279c1a"
      },
      "outputs": [
        {
          "output_type": "stream",
          "name": "stdout",
          "text": [
            "Requirement already satisfied: pulp in /usr/local/lib/python3.10/dist-packages (2.9.0)\n"
          ]
        }
      ],
      "source": [
        "!pip install pulp\n",
        "import pulp"
      ]
    },
    {
      "cell_type": "markdown",
      "source": [
        "## Declaração do objeto que representa o modelo matemático"
      ],
      "metadata": {
        "id": "0Dr-_-xjdul1"
      }
    },
    {
      "cell_type": "code",
      "source": [
        "modelo = pulp.LpProblem(\"Problema3\", pulp.LpMaximize)"
      ],
      "metadata": {
        "id": "g1eMgL7LbDls"
      },
      "execution_count": null,
      "outputs": []
    },
    {
      "cell_type": "markdown",
      "source": [
        "## Variáveis de decisão\n"
      ],
      "metadata": {
        "id": "kHRXi46jeJYC"
      }
    },
    {
      "cell_type": "code",
      "source": [
        "x1 = pulp.LpVariable(\"x1\", lowBound=0)\n",
        "x2 = pulp.LpVariable(\"x2\", lowBound=0)\n",
        "x3 = pulp.LpVariable(\"x3\", lowBound=0)\n",
        "x4 = pulp.LpVariable(\"x4\", lowBound=0)"
      ],
      "metadata": {
        "id": "uLzHZdaReIWO"
      },
      "execution_count": null,
      "outputs": []
    },
    {
      "cell_type": "markdown",
      "source": [
        "## Função objetivo"
      ],
      "metadata": {
        "id": "DmrN-xfoehPi"
      }
    },
    {
      "cell_type": "code",
      "source": [
        "modelo += (1000 * x1 + 1900 * x2 + 2700 * x3 + 3400 * x4)"
      ],
      "metadata": {
        "id": "3zCuxaOLegLB"
      },
      "execution_count": null,
      "outputs": []
    },
    {
      "cell_type": "markdown",
      "source": [
        "## Restrições\n",
        "\n"
      ],
      "metadata": {
        "id": "tnR02FDyeozi"
      }
    },
    {
      "cell_type": "code",
      "source": [
        "modelo += (0.18 * x1 + 0.28 * x2 + 0.4 * x3 + 0.5 * x4 <= 63.75)"
      ],
      "metadata": {
        "id": "nIxAFQ3gfBYj"
      },
      "execution_count": null,
      "outputs": []
    },
    {
      "cell_type": "code",
      "source": [
        "modelo += (50000 * x1 + 70000 * x2 + 130000 * x3 + 160000 * x4 <= 15000000)"
      ],
      "metadata": {
        "id": "6kBq6mdpffO6"
      },
      "execution_count": null,
      "outputs": []
    },
    {
      "cell_type": "code",
      "source": [
        "modelo += (x1 >= 0.2 * (x1 + x2 + x3 + x4))"
      ],
      "metadata": {
        "id": "_uLVrVMaF4sR"
      },
      "execution_count": null,
      "outputs": []
    },
    {
      "cell_type": "code",
      "source": [
        "modelo += (x2 >= 0.1 * (x1 + x2 + x3 + x4))"
      ],
      "metadata": {
        "id": "lgzdPNoRF4kb"
      },
      "execution_count": null,
      "outputs": []
    },
    {
      "cell_type": "code",
      "source": [
        "modelo += (x3 + x4 >= 0.25 * (x1 + x2 + x3 + x4))"
      ],
      "metadata": {
        "id": "h-vxnn1kF4Xw"
      },
      "execution_count": null,
      "outputs": []
    },
    {
      "cell_type": "code",
      "source": [
        "modelo"
      ],
      "metadata": {
        "colab": {
          "base_uri": "https://localhost:8080/"
        },
        "id": "etgi3YDdkpKt",
        "outputId": "cacc9ef4-c41a-4d1e-9646-150635b471ca"
      },
      "execution_count": null,
      "outputs": [
        {
          "output_type": "execute_result",
          "data": {
            "text/plain": [
              "Problema3:\n",
              "MAXIMIZE\n",
              "1000*x1 + 1900*x2 + 2700*x3 + 3400*x4 + 0\n",
              "SUBJECT TO\n",
              "_C1: 0.18 x1 + 0.28 x2 + 0.4 x3 + 0.5 x4 <= 63.75\n",
              "\n",
              "_C2: 50000 x1 + 70000 x2 + 130000 x3 + 160000 x4 <= 15000000\n",
              "\n",
              "_C3: 0.8 x1 - 0.2 x2 - 0.2 x3 - 0.2 x4 >= 0\n",
              "\n",
              "_C4: - 0.1 x1 + 0.9 x2 - 0.1 x3 - 0.1 x4 >= 0\n",
              "\n",
              "_C5: - 0.25 x1 - 0.25 x2 + 0.75 x3 + 0.75 x4 >= 0\n",
              "\n",
              "VARIABLES\n",
              "x1 Continuous\n",
              "x2 Continuous\n",
              "x3 Continuous\n",
              "x4 Continuous"
            ]
          },
          "metadata": {},
          "execution_count": 29
        }
      ]
    },
    {
      "cell_type": "markdown",
      "source": [
        "### Resolvendo o problema"
      ],
      "metadata": {
        "id": "x2Lpqq-5fiu6"
      }
    },
    {
      "cell_type": "code",
      "source": [
        "status = modelo.solve()"
      ],
      "metadata": {
        "id": "jMphNaEDfk-i"
      },
      "execution_count": null,
      "outputs": []
    },
    {
      "cell_type": "markdown",
      "source": [
        "## Imprimindo as soluções do problema"
      ],
      "metadata": {
        "id": "NfwY9yYDgnjX"
      }
    },
    {
      "cell_type": "code",
      "source": [
        "print(\"Status:\", pulp.LpStatus[status])\n",
        "print('Função objetivo: ', modelo.objective.value())\n",
        "print('Soluções:')\n",
        "print(\"Número de Unidades Simples:\", pulp.value(x1))\n",
        "print(\"Número de Unidades Duplas:\", pulp.value(x2))\n",
        "print(\"Número de Unidades Triplas:\", pulp.value(x3))\n",
        "print(\"Número de Unidades Quadruplas:\", pulp.value(x4))"
      ],
      "metadata": {
        "id": "V4FtNQyOgrhp",
        "colab": {
          "base_uri": "https://localhost:8080/"
        },
        "outputId": "b6594863-9483-4cb8-cee2-919b5f6ddc46"
      },
      "execution_count": null,
      "outputs": [
        {
          "output_type": "stream",
          "name": "stdout",
          "text": [
            "Status: Optimal\n",
            "Função objetivo:  355555.5512\n",
            "Soluções:\n",
            "Número de Unidades Simples: 37.037037\n",
            "Número de Unidades Duplas: 101.85185\n",
            "Número de Unidades Triplas: 46.296296\n",
            "Número de Unidades Quadruplas: 0.0\n"
          ]
        }
      ]
    }
  ]
}