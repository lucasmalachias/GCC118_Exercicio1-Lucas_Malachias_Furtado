{
  "nbformat": 4,
  "nbformat_minor": 0,
  "metadata": {
    "colab": {
      "provenance": []
    },
    "kernelspec": {
      "name": "python3",
      "display_name": "Python 3"
    },
    "language_info": {
      "name": "python"
    }
  },
  "cells": [
    {
      "cell_type": "markdown",
      "source": [
        "# GCC118 - Programação Matemática - Problema 1\n",
        "## Universidade Federal de Lavras\n",
        "### Instituto de Ciências Exatas e Tecnológicas\n",
        "#### Profa. Andreza C. Beezão Moreira (DMM/UFLA)\n",
        "#### Prof. Mayron César O. Moreira (DCC/UFLA)\n",
        "#### Aluno: Lucas Malachias Furtado - 202110665"
      ],
      "metadata": {
        "id": "7YcVBRS7bEzs"
      }
    },
    {
      "cell_type": "markdown",
      "metadata": {
        "id": "m61Hr7kqErVS"
      },
      "source": [
        "## Modelagem matemática\n",
        "\n",
        "A seguir, apresentaremos a modelagem matemática deste problema, especificando os principais elementos da modelagem de um problema de programação matemática: $(i)$ parâmetros (dados); $(ii)$ variáveis de decisão; $(iii)$ modelagem, composta por uma função objetivo, restrições do problema e restrições de domínio das variáveis de decisão."
      ]
    },
    {
      "cell_type": "markdown",
      "metadata": {
        "id": "GrH57ge0ErVT"
      },
      "source": [
        "### Parâmetros\n",
        "\n",
        "### Custo de cada tipo de avião:\n",
        "- Custo de compra de um Boeing 717: $5,1 milhões\n",
        "\n",
        "- Custo de compra de um Boeing 737-500: $3,6 milhões\n",
        "\n",
        "- Custo de compra de um MD-11: $6,8 milhões\n",
        "\n",
        "### Receita teórica de cada tipo de avião:\n",
        "- Receita gerada por um Boeing 717: $330 milhões\n",
        "\n",
        "- Receita gerada por um Boeing 737-500: $300 milhões\n",
        "\n",
        "- Receita gerada por um MD-11: $420 milhões\n",
        "\n",
        "### Número de pilotos aptos para cada tipo de avião:\n",
        "- Número de pilotos habilitados para o Boeing 717: 30 pilotos\n",
        "\n",
        "- Número de pilotos habilitados para o Boeing 737-500: 20 pilotos\n",
        "\n",
        "- Número de pilotos habilitados para o MD-11: 10 pilotos\n",
        "\n",
        "### Capacidade de manutenção da oficina:\n",
        "- A oficina tem capacidade para manter até **40 Boeings 717**\n",
        "- O esforço de manutenção relativo de outras aeronaves:\n",
        "  - Um **Boeing 737-500** equivale a 3/4 de um Boeing 717 em termos de esforço de manutenção\n",
        "  - Um **MD-11** equivale a 5/3 de um Boeing 717 em termos de esforço de manutenção\n",
        "\n",
        "### Orçamento total disponível:\n",
        "- O orçamento total disponível para a compra dos aviões é de **220 milhões de dólares**\n",
        "\n",
        "### Pilotos necessários por avião:\n",
        "- Cada aeronave requer **2 pilotos** para operar"
      ]
    },
    {
      "cell_type": "markdown",
      "metadata": {
        "id": "jiOz0lALErVU"
      },
      "source": [
        "### Variáveis de Decisão\n",
        "\n",
        "- **\\( x_1 \\)**: Número de Boeings 717 a serem comprados.\n",
        "- **\\( x_2 \\)**: Número de Boeings 737-500 a serem comprados.\n",
        "- **\\( x_3 \\)**: Número de MD-11 a serem comprados."
      ]
    },
    {
      "cell_type": "markdown",
      "metadata": {
        "id": "ppekz1lwErVV"
      },
      "source": [
        "### Função objetivo\n",
        "\n",
        "Maximizar a receita total gerada pelos aviões comprados.\n",
        "\n",
        "\\begin{equation}\n",
        "\\max f(x_1,x_2,x_3) = 330x_1 + 300x_2 + 420x_3\n",
        "\\end{equation}"
      ]
    },
    {
      "cell_type": "markdown",
      "metadata": {
        "id": "GV2RQJ5m04lH"
      },
      "source": [
        "### Restrições\n",
        "\n",
        "### Restrição de Orçamento:\n",
        "O custo total dos aviões comprados não pode exceder 220 milhões de dólares:\n",
        "\\\n",
        "\\begin{equation}\n",
        "5.1x_1 + 3.6x_2 + 6.8x_3 \\leq 220\n",
        "\\end{equation}\n",
        "\n",
        "\n",
        "### Restrição de Pilotos:\n",
        "Cada tipo de avião requer 2 pilotos. O número de aviões comprados deve respeitar a quantidade de pilotos disponíveis para cada tipo:\n",
        "\\\n",
        "\\begin{equation}\n",
        "2x_1 \\leq 30 \\quad \\text{(Boeing 717)}\n",
        "\\end{equation}\n",
        "\n",
        "\\\n",
        "\\begin{equation}\n",
        "2x_2 \\leq 20 \\quad \\text{(Boeing 737-500)}\n",
        "\\end{equation}\n",
        "\n",
        "\\\n",
        "\\begin{equation}\n",
        "2(x_1 + x_2 + x_3) \\leq 10 \\quad \\text{(Pilotos habilitados para MD-11)}\n",
        "\\end{equation}\n",
        "\n",
        "\n",
        "### Restrição de Manutenção:\n",
        "A capacidade de manutenção da oficina deve ser respeitada, ponderando o esforço relativo de cada tipo de avião:\n",
        "\\\n",
        "\\begin{equation}\n",
        "x_1 + \\frac{3}{4}x_2 + \\frac{5}{3}x_3 \\leq 40\n",
        "\\end{equation}\n"
      ]
    },
    {
      "cell_type": "markdown",
      "metadata": {
        "id": "puBeJTpQ04lo"
      },
      "source": [
        "### Modelo\n",
        "\n",
        "\\begin{equation}\n",
        "\\max 330x_1 + 300x_2 + 420x_3\n",
        "\\end{equation}\n",
        "\n",
        "sujeito a:\n",
        "\n",
        "\\begin{alignat}{2}\n",
        "5.1x_1 + 3.6x_2 + 6.8x_3 &\\le 220 && \\qquad \\text{(Orçamento total disponível)} \\\\\n",
        "2x_1 &\\le 30 && \\qquad \\text{(Pilotos disponíveis para Boeing 717)} \\\\\n",
        "2x_2 &\\le 20 && \\qquad \\text{(Pilotos disponíveis para Boeing 737-500)} \\\\\n",
        "2(x_1 + x_2 + x_3) &\\le 10 && \\qquad \\text{(Pilotos habilitados para MD-11)} \\\\\n",
        "x_1 + \\frac{3}{4}x_2 + \\frac{5}{3}x_3 &\\le 40 && \\qquad \\text{(Capacidade de manutenção)} \\\\\n",
        "x_1, x_2, x_3 &\\ge 0 && \\qquad \\text{(Não negatividade das variáveis)}\n",
        "\\end{alignat}\n"
      ]
    },
    {
      "cell_type": "markdown",
      "source": [
        "## Instalação da biblioteca PuLP\n",
        "\n",
        "Para mais informações, acesse: [PuLP 2.9.0](https://pypi.org/project/PuLP/)."
      ],
      "metadata": {
        "id": "gDSX7cj5bweS"
      }
    },
    {
      "cell_type": "code",
      "execution_count": null,
      "metadata": {
        "id": "4O-RtOj9au6i",
        "colab": {
          "base_uri": "https://localhost:8080/"
        },
        "outputId": "82d6d1d7-8330-4d57-9ec3-a9f2a72095a3"
      },
      "outputs": [
        {
          "output_type": "stream",
          "name": "stdout",
          "text": [
            "Collecting pulp\n",
            "  Downloading PuLP-2.9.0-py3-none-any.whl.metadata (5.4 kB)\n",
            "Downloading PuLP-2.9.0-py3-none-any.whl (17.7 MB)\n",
            "\u001b[2K   \u001b[90m━━━━━━━━━━━━━━━━━━━━━━━━━━━━━━━━━━━━━━━━\u001b[0m \u001b[32m17.7/17.7 MB\u001b[0m \u001b[31m42.0 MB/s\u001b[0m eta \u001b[36m0:00:00\u001b[0m\n",
            "\u001b[?25hInstalling collected packages: pulp\n",
            "Successfully installed pulp-2.9.0\n"
          ]
        }
      ],
      "source": [
        "!pip install pulp\n",
        "import pulp"
      ]
    },
    {
      "cell_type": "markdown",
      "source": [
        "## Declaração do objeto que representa o modelo matemático"
      ],
      "metadata": {
        "id": "0Dr-_-xjdul1"
      }
    },
    {
      "cell_type": "code",
      "source": [
        "modelo = pulp.LpProblem('Problema1', pulp.LpMaximize)"
      ],
      "metadata": {
        "id": "g1eMgL7LbDls"
      },
      "execution_count": null,
      "outputs": []
    },
    {
      "cell_type": "markdown",
      "source": [
        "## Variáveis de decisão\n"
      ],
      "metadata": {
        "id": "kHRXi46jeJYC"
      }
    },
    {
      "cell_type": "code",
      "source": [
        "x1 = pulp.LpVariable('x1', lowBound=0)\n",
        "x2 = pulp.LpVariable('x2', lowBound=0)\n",
        "x3 = pulp.LpVariable('x3', lowBound=0)"
      ],
      "metadata": {
        "id": "uLzHZdaReIWO"
      },
      "execution_count": null,
      "outputs": []
    },
    {
      "cell_type": "markdown",
      "source": [
        "## Função objetivo"
      ],
      "metadata": {
        "id": "DmrN-xfoehPi"
      }
    },
    {
      "cell_type": "code",
      "source": [
        "modelo += 330*x1 + 300*x2 + 420*x3"
      ],
      "metadata": {
        "id": "3zCuxaOLegLB"
      },
      "execution_count": null,
      "outputs": []
    },
    {
      "cell_type": "markdown",
      "source": [
        "## Restrições\n",
        "\n"
      ],
      "metadata": {
        "id": "tnR02FDyeozi"
      }
    },
    {
      "cell_type": "code",
      "source": [
        "modelo += 5.1*x1 + 3.6*x2 + 6.8*x3 <= 60"
      ],
      "metadata": {
        "id": "nIxAFQ3gfBYj"
      },
      "execution_count": null,
      "outputs": []
    },
    {
      "cell_type": "code",
      "source": [
        "modelo += 2*x1 <= 30"
      ],
      "metadata": {
        "id": "6kBq6mdpffO6"
      },
      "execution_count": null,
      "outputs": []
    },
    {
      "cell_type": "code",
      "source": [
        "modelo += 2*x2 <= 20"
      ],
      "metadata": {
        "id": "2CfceSKCC6U3"
      },
      "execution_count": null,
      "outputs": []
    },
    {
      "cell_type": "code",
      "source": [
        "modelo += 2*(x1 + x2 + x3) <= 10"
      ],
      "metadata": {
        "id": "XwFVlWO7C6BJ"
      },
      "execution_count": null,
      "outputs": []
    },
    {
      "cell_type": "code",
      "source": [
        "modelo += x1 + (3/4)*x2 + (5/3)*x3 <= 40"
      ],
      "metadata": {
        "id": "JUzk6AjnDBaK"
      },
      "execution_count": null,
      "outputs": []
    },
    {
      "cell_type": "code",
      "source": [
        "modelo"
      ],
      "metadata": {
        "colab": {
          "base_uri": "https://localhost:8080/"
        },
        "id": "etgi3YDdkpKt",
        "outputId": "0a5c3348-ff27-4f19-a933-f8856ceb8556"
      },
      "execution_count": null,
      "outputs": [
        {
          "output_type": "execute_result",
          "data": {
            "text/plain": [
              "Problema1:\n",
              "MAXIMIZE\n",
              "330*x1 + 300*x2 + 420*x3 + 0\n",
              "SUBJECT TO\n",
              "_C1: 5.1 x1 + 3.6 x2 + 6.8 x3 <= 60\n",
              "\n",
              "_C2: 2 x1 <= 30\n",
              "\n",
              "_C3: 2 x2 <= 20\n",
              "\n",
              "_C4: 2 x1 + 2 x2 + 2 x3 <= 10\n",
              "\n",
              "_C5: x1 + 0.75 x2 + 1.66666666667 x3 <= 40\n",
              "\n",
              "VARIABLES\n",
              "x1 Continuous\n",
              "x2 Continuous\n",
              "x3 Continuous"
            ]
          },
          "metadata": {},
          "execution_count": 10
        }
      ]
    },
    {
      "cell_type": "markdown",
      "source": [
        "### Resolvendo o problema"
      ],
      "metadata": {
        "id": "x2Lpqq-5fiu6"
      }
    },
    {
      "cell_type": "code",
      "source": [
        "status = modelo.solve()"
      ],
      "metadata": {
        "id": "jMphNaEDfk-i"
      },
      "execution_count": null,
      "outputs": []
    },
    {
      "cell_type": "markdown",
      "source": [
        "## Imprimindo as soluções do problema"
      ],
      "metadata": {
        "id": "NfwY9yYDgnjX"
      }
    },
    {
      "cell_type": "code",
      "source": [
        "print('Status: ', pulp.LpStatus[status])\n",
        "print('Função objetivo: ', modelo.objective.value())\n",
        "print('Soluções:')\n",
        "print('Número de Boeings 717 a serem comprados: ', x1.value())\n",
        "print('Número de Boeings 737-500 a serem comprados: ', x2.value())\n",
        "print('Número de MD-11 a serem comprados: ', x3.value())"
      ],
      "metadata": {
        "id": "V4FtNQyOgrhp",
        "colab": {
          "base_uri": "https://localhost:8080/"
        },
        "outputId": "00b235bf-3945-4d83-b080-cf8f2671a24b"
      },
      "execution_count": null,
      "outputs": [
        {
          "output_type": "stream",
          "name": "stdout",
          "text": [
            "Status:  Optimal\n",
            "Função objetivo:  2100.0\n",
            "Soluções:\n",
            "Número de Boeings 717 a serem comprados:  0.0\n",
            "Número de Boeings 737-500 a serem comprados:  0.0\n",
            "Número de MD-11 a serem comprados:  5.0\n"
          ]
        }
      ]
    }
  ]
}