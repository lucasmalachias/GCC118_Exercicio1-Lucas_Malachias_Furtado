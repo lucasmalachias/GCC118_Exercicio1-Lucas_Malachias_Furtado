{
  "nbformat": 4,
  "nbformat_minor": 0,
  "metadata": {
    "colab": {
      "provenance": []
    },
    "kernelspec": {
      "name": "python3",
      "display_name": "Python 3"
    },
    "language_info": {
      "name": "python"
    }
  },
  "cells": [
    {
      "cell_type": "markdown",
      "source": [
        "# GCC118 - Programação Matemática - Problema 2\n",
        "## Universidade Federal de Lavras\n",
        "### Instituto de Ciências Exatas e Tecnológicas\n",
        "#### Profa. Andreza C. Beezão Moreira (DMM/UFLA)\n",
        "#### Prof. Mayron César O. Moreira (DCC/UFLA)\n",
        "#### Aluno: Lucas Malachias Furtado - 202110665"
      ],
      "metadata": {
        "id": "7YcVBRS7bEzs"
      }
    },
    {
      "cell_type": "markdown",
      "metadata": {
        "id": "m61Hr7kqErVS"
      },
      "source": [
        "## Modelagem matemática\n",
        "\n",
        "A seguir, apresentaremos a modelagem matemática deste problema, especificando os principais elementos da modelagem de um problema de programação matemática: $(i)$ parâmetros (dados); $(ii)$ variáveis de decisão; $(iii)$ modelagem, composta por uma função objetivo, restrições do problema e restrições de domínio das variáveis de decisão."
      ]
    },
    {
      "cell_type": "markdown",
      "metadata": {
        "id": "GrH57ge0ErVT"
      },
      "source": [
        "### Parâmetros\n",
        "\n",
        "- Custo de produção por camiseta nas semanas 1 e 2: R$2,00\n",
        "\n",
        "- Custo de produção por camiseta nas semanas 3 e 4: R$2,50]\n",
        "\n",
        "- Custo de produção por camiseta em horas extras nas semanas 1 e 2: R$2,80\n",
        "\n",
        "- Custo de estocagem por camiseta por semana: R$0,20\n",
        "\n",
        "- Demanda de camisetas na semana 1: 5000\n",
        "- Demanda de camisetas na semana 2: 10000\n",
        "- Demanda de camisetas na semana 3: 30000\n",
        "- Demanda de camisetas na semana 4: 60000\n",
        "- Capacidade máxima de produção normal por semana: 25000\n",
        "- Capacidade máxima de produção em horas extras por semana (apenas nas semanas 1 e 2): 10000\n"
      ]
    },
    {
      "cell_type": "markdown",
      "metadata": {
        "id": "jiOz0lALErVU"
      },
      "source": [
        "### Variáveis de Decisão\n",
        "\n",
        "- \\( x_i \\): número de camisetas produzidas na semana \\( i \\) (para \\( i = 1, 2, 3, 4 \\))  \n",
        "- \\( e_i \\): número de camisetas produzidas em horas extras na semana \\( i \\) (para \\( i = 1, 2 \\))  \n",
        "- \\( s_i \\): número de camisetas estocadas ao final da semana \\( i \\) (para \\( i = 1, 2, 3 \\))  \n"
      ]
    },
    {
      "cell_type": "markdown",
      "metadata": {
        "id": "ppekz1lwErVV"
      },
      "source": [
        "### Função objetivo\n",
        "\n",
        "Minimizar os custos de produção, horas extras e estocagem.\n",
        "\n",
        "\\\n",
        "\\begin{equation}\n",
        "\\text{Minimizar:} \\quad Z = C_1 x_1 + C_1 x_2 + C_2 x_3 + C_2 x_4 + C_e e_1 + C_e e_2 + S (s_1 + s_2 + s_3)\n",
        "\\end{equation}\n"
      ]
    },
    {
      "cell_type": "markdown",
      "metadata": {
        "id": "GV2RQJ5m04lH"
      },
      "source": [
        "### Restrições\n",
        "\n",
        "### Capacidade Máxima de Produção\n",
        "\n",
        "Nas semanas 1 e 2, a produção normal mais a produção em horas extras não pode exceder a capacidade de 35.000 camisetas (25.000 regulares + 10.000 em horas extras).\n",
        "\n",
        "\\\n",
        "\\begin{equation}\n",
        "x_1 + e_1 \\leq C_m + E_m\n",
        "\\end{equation}\n",
        "\n",
        "\n",
        "\\\n",
        "\\begin{equation}\n",
        "x_2 + e_2 \\leq C_m + E_m\n",
        "\\end{equation}\n",
        "\n",
        "\n",
        "Nas semanas 3 e 4, a produção normal não pode exceder 25.000 camisetas (não há horas extras).\n",
        "\n",
        "\\\n",
        "\\begin{equation}\n",
        "x_3 \\leq C_m\n",
        "\\end{equation}\n",
        "\n",
        "\n",
        "\\\n",
        "\\begin{equation}\n",
        "x_4 \\leq C_m\n",
        "\\end{equation}\n",
        "\n",
        "\n",
        "### Satisfação da Demanda Semanal\n",
        "\n",
        "A demanda semanal deve ser atendida, considerando o estoque da semana anterior e a produção da semana atual.\n",
        "\n",
        "\\\n",
        "\\begin{equation}\n",
        "x_1 + e_1 = D_1 + s_1\n",
        "\\end{equation}\n",
        "\n",
        "\n",
        "\\\n",
        "\\begin{equation}\n",
        "x_2 + e_2 + s_1 = D_2 + s_2\n",
        "\\end{equation}\n",
        "\n",
        "\n",
        "\\\n",
        "\\begin{equation}\n",
        "x_3 + s_2 = D_3 + s_3\n",
        "\\end{equation}\n",
        "\n",
        "\n",
        "\\\n",
        "\\begin{equation}\n",
        "x_4 + s_3 = D_4\n",
        "\\end{equation}\n",
        "\n"
      ]
    },
    {
      "cell_type": "markdown",
      "metadata": {
        "id": "puBeJTpQ04lo"
      },
      "source": [
        "### Modelo\n",
        "\n",
        "\\begin{equation}  \n",
        "\\min Z = C_1 x_1 + C_1 x_2 + C_2 x_3 + C_2 x_4 + C_e e_1 + C_e e_2 + S (s_1 + s_2 + s_3)  \n",
        "\\end{equation}\n",
        "\n",
        "sujeito a:\n",
        "\n",
        "\\begin{alignat}{2}  \n",
        "x_1 + e_1 &\\le C_m + E_m && \\qquad \\text{(Capacidade máxima nas semanas 1 e 2)} \\\\  \n",
        "x_2 + e_2 &\\le C_m + E_m && \\qquad \\text{(Capacidade máxima nas semanas 1 e 2)} \\\\  \n",
        "x_3 &\\le C_m && \\qquad \\text{(Capacidade máxima na semana 3)} \\\\  \n",
        "x_4 &\\le C_m && \\qquad \\text{(Capacidade máxima na semana 4)} \\\\  \n",
        "x_1 + e_1 &= D_1 + s_1 && \\qquad \\text{(Atendimento da demanda na semana 1)} \\\\  \n",
        "x_2 + e_2 + s_1 &= D_2 + s_2 && \\qquad \\text{(Atendimento da demanda na semana 2)} \\\\  \n",
        "x_3 + s_2 &= D_3 + s_3 && \\qquad \\text{(Atendimento da demanda na semana 3)} \\\\  \n",
        "x_4 + s_3 &= D_4 && \\qquad \\text{(Atendimento da demanda na semana 4)} \\\\  \n",
        "x_i, e_i, s_i &\\ge 0 && \\qquad \\text{(Não negatividade das variáveis)}  \n",
        "\\end{alignat}\n"
      ]
    },
    {
      "cell_type": "markdown",
      "source": [
        "## Instalação da biblioteca PuLP\n",
        "\n",
        "Para mais informações, acesse: [PuLP 2.9.0](https://pypi.org/project/PuLP/)."
      ],
      "metadata": {
        "id": "gDSX7cj5bweS"
      }
    },
    {
      "cell_type": "code",
      "execution_count": null,
      "metadata": {
        "id": "4O-RtOj9au6i",
        "colab": {
          "base_uri": "https://localhost:8080/"
        },
        "outputId": "e47a7fa0-3e71-432b-ecd5-97666903d856"
      },
      "outputs": [
        {
          "output_type": "stream",
          "name": "stdout",
          "text": [
            "Collecting pulp\n",
            "  Downloading PuLP-2.9.0-py3-none-any.whl.metadata (5.4 kB)\n",
            "Downloading PuLP-2.9.0-py3-none-any.whl (17.7 MB)\n",
            "\u001b[2K   \u001b[90m━━━━━━━━━━━━━━━━━━━━━━━━━━━━━━━━━━━━━━━━\u001b[0m \u001b[32m17.7/17.7 MB\u001b[0m \u001b[31m60.2 MB/s\u001b[0m eta \u001b[36m0:00:00\u001b[0m\n",
            "\u001b[?25hInstalling collected packages: pulp\n",
            "Successfully installed pulp-2.9.0\n"
          ]
        }
      ],
      "source": [
        "!pip install pulp\n",
        "import pulp"
      ]
    },
    {
      "cell_type": "markdown",
      "source": [
        "## Declaração do objeto que representa o modelo matemático"
      ],
      "metadata": {
        "id": "0Dr-_-xjdul1"
      }
    },
    {
      "cell_type": "code",
      "source": [
        "modelo = pulp.LpProblem(\"Problema2\", pulp.LpMinimize)"
      ],
      "metadata": {
        "id": "g1eMgL7LbDls"
      },
      "execution_count": null,
      "outputs": []
    },
    {
      "cell_type": "markdown",
      "source": [
        "## Parâmetros"
      ],
      "metadata": {
        "id": "UXbjPLdZDk1D"
      }
    },
    {
      "cell_type": "code",
      "source": [
        "C1 = 2.00\n",
        "C2 = 2.50\n",
        "Ce = 2.80\n",
        "S = 0.20\n",
        "D = [5000, 10000, 30000, 60000]\n",
        "Cm = 25000\n",
        "Em = 10000"
      ],
      "metadata": {
        "id": "rmOgpX5sDq80"
      },
      "execution_count": null,
      "outputs": []
    },
    {
      "cell_type": "markdown",
      "source": [
        "## Variáveis de decisão\n"
      ],
      "metadata": {
        "id": "kHRXi46jeJYC"
      }
    },
    {
      "cell_type": "code",
      "source": [
        "x = [pulp.LpVariable(f'x{i}', lowBound=0) for i in range(1, 5)]\n",
        "e = [pulp.LpVariable(f'e{i}', lowBound=0) for i in range(1, 3)]\n",
        "s = [pulp.LpVariable(f's{i}', lowBound=0) for i in range(1, 4)]"
      ],
      "metadata": {
        "id": "uLzHZdaReIWO"
      },
      "execution_count": null,
      "outputs": []
    },
    {
      "cell_type": "markdown",
      "source": [
        "## Função objetivo"
      ],
      "metadata": {
        "id": "DmrN-xfoehPi"
      }
    },
    {
      "cell_type": "code",
      "source": [
        "modelo += (C1 * x[0] + C1 * x[1] + C2 * x[2] + C2 * x[3] + Ce * e[0] + Ce * e[1] + S * (s[0] + s[1] + s[2]))"
      ],
      "metadata": {
        "id": "3zCuxaOLegLB"
      },
      "execution_count": null,
      "outputs": []
    },
    {
      "cell_type": "markdown",
      "source": [
        "## Restrições\n",
        "\n"
      ],
      "metadata": {
        "id": "tnR02FDyeozi"
      }
    },
    {
      "cell_type": "code",
      "source": [
        "modelo += x[0] + e[0] <= Cm + Em"
      ],
      "metadata": {
        "id": "nIxAFQ3gfBYj"
      },
      "execution_count": null,
      "outputs": []
    },
    {
      "cell_type": "code",
      "source": [
        "modelo += x[1] + e[1] <= Cm + Em"
      ],
      "metadata": {
        "id": "6kBq6mdpffO6"
      },
      "execution_count": null,
      "outputs": []
    },
    {
      "cell_type": "code",
      "source": [
        "modelo += x[2] <= Cm"
      ],
      "metadata": {
        "id": "etgi3YDdkpKt"
      },
      "execution_count": null,
      "outputs": []
    },
    {
      "cell_type": "code",
      "source": [
        "modelo += x[3] <= Cm"
      ],
      "metadata": {
        "id": "y5IM1EOEE2da"
      },
      "execution_count": null,
      "outputs": []
    },
    {
      "cell_type": "code",
      "source": [
        "modelo += x[0] + e[0] == D[0] + s[0]"
      ],
      "metadata": {
        "id": "L4Ncf-wLE2V2"
      },
      "execution_count": null,
      "outputs": []
    },
    {
      "cell_type": "code",
      "source": [
        "modelo += x[1] + e[1] + s[0] == D[1] + s[1]"
      ],
      "metadata": {
        "id": "lLkxq2Z0E2Nh"
      },
      "execution_count": null,
      "outputs": []
    },
    {
      "cell_type": "code",
      "source": [
        "modelo += x[2] + s[1] == D[2] + s[2]"
      ],
      "metadata": {
        "id": "q4uB780XE19o"
      },
      "execution_count": null,
      "outputs": []
    },
    {
      "cell_type": "code",
      "source": [
        "modelo += x[3] + s[2] == D[3]"
      ],
      "metadata": {
        "id": "T39VSgMxE1tx"
      },
      "execution_count": null,
      "outputs": []
    },
    {
      "cell_type": "code",
      "source": [
        "modelo"
      ],
      "metadata": {
        "colab": {
          "base_uri": "https://localhost:8080/"
        },
        "id": "NDfD8SVlFXu2",
        "outputId": "36e46a57-0308-4a8b-dcf1-e68f490b5bbe"
      },
      "execution_count": null,
      "outputs": [
        {
          "output_type": "execute_result",
          "data": {
            "text/plain": [
              "Problema2:\n",
              "MINIMIZE\n",
              "2.8*e1 + 2.8*e2 + 0.2*s1 + 0.2*s2 + 0.2*s3 + 2.0*x1 + 2.0*x2 + 2.5*x3 + 2.5*x4 + 0.0\n",
              "SUBJECT TO\n",
              "_C1: e1 + x1 <= 35000\n",
              "\n",
              "_C2: e2 + x2 <= 35000\n",
              "\n",
              "_C3: x3 <= 25000\n",
              "\n",
              "_C4: x4 <= 25000\n",
              "\n",
              "_C5: e1 - s1 + x1 = 5000\n",
              "\n",
              "_C6: e2 + s1 - s2 + x2 = 10000\n",
              "\n",
              "_C7: s2 - s3 + x3 = 30000\n",
              "\n",
              "_C8: s3 + x4 = 60000\n",
              "\n",
              "VARIABLES\n",
              "e1 Continuous\n",
              "e2 Continuous\n",
              "s1 Continuous\n",
              "s2 Continuous\n",
              "s3 Continuous\n",
              "x1 Continuous\n",
              "x2 Continuous\n",
              "x3 Continuous\n",
              "x4 Continuous"
            ]
          },
          "metadata": {},
          "execution_count": 17
        }
      ]
    },
    {
      "cell_type": "markdown",
      "source": [
        "### Resolvendo o problema"
      ],
      "metadata": {
        "id": "x2Lpqq-5fiu6"
      }
    },
    {
      "cell_type": "code",
      "source": [
        "status = modelo.solve()"
      ],
      "metadata": {
        "id": "jMphNaEDfk-i"
      },
      "execution_count": null,
      "outputs": []
    },
    {
      "cell_type": "markdown",
      "source": [
        "## Imprimindo as soluções do problema"
      ],
      "metadata": {
        "id": "NfwY9yYDgnjX"
      }
    },
    {
      "cell_type": "code",
      "source": [
        "print(\"Status:\", pulp.LpStatus[status])\n",
        "print('Função objetivo: ', modelo.objective.value())\n",
        "print('Soluções:')\n",
        "for i in range(4):\n",
        "    print(f\"Produção normal na semana {i+1}: {x[i].varValue}\")\n",
        "for i in range(2):\n",
        "    print(f\"Produção em horas extras na semana {i+1}: {e[i].varValue}\")\n",
        "for i in range(3):\n",
        "    print(f\"Estoque ao final da semana {i+1}: {s[i].varValue}\")"
      ],
      "metadata": {
        "id": "V4FtNQyOgrhp",
        "colab": {
          "base_uri": "https://localhost:8080/"
        },
        "outputId": "bff8c0e5-7e56-4e82-c553-6c6c84d6e4e3"
      },
      "execution_count": null,
      "outputs": [
        {
          "output_type": "stream",
          "name": "stdout",
          "text": [
            "Status: Optimal\n",
            "Função objetivo:  251500.0\n",
            "Soluções:\n",
            "Produção normal na semana 1: 35000.0\n",
            "Produção normal na semana 2: 35000.0\n",
            "Produção normal na semana 3: 10000.0\n",
            "Produção normal na semana 4: 25000.0\n",
            "Produção em horas extras na semana 1: 0.0\n",
            "Produção em horas extras na semana 2: 0.0\n",
            "Estoque ao final da semana 1: 30000.0\n",
            "Estoque ao final da semana 2: 55000.0\n",
            "Estoque ao final da semana 3: 35000.0\n"
          ]
        }
      ]
    }
  ]
}